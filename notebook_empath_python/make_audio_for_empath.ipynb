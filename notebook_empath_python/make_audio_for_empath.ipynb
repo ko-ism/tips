{
 "cells": [
  {
   "cell_type": "markdown",
   "metadata": {},
   "source": [
    "# empath用音声"
   ]
  },
  {
   "cell_type": "code",
   "execution_count": null,
   "metadata": {},
   "outputs": [],
   "source": [
    "import pyaudio\n",
    "import wave\n",
    "\n",
    "def main():\n",
    "    rec_time = 4          # 録音時間[s]\n",
    "    fmt = pyaudio.paInt16  # 音声のフォーマット\n",
    "    ch = 1              # チャンネル1(モノラル)\n",
    "    sampling_rate = 11025 # サンプリング周波数 for empath\n",
    "    chunk = 2**11       # チャンク（データ点数）\n",
    "    index = 1 # 録音デバイスのインデックス番号（デフォルト1）\n",
    "\n",
    "    for i in range(1):\n",
    "        file_path = \"test_audio_high.wav\"\n",
    "        audio = pyaudio.PyAudio()\n",
    "        stream = audio.open(format=fmt, channels=ch, rate=sampling_rate, input=True,\n",
    "                        input_device_index = index,\n",
    "                        frames_per_buffer=chunk)\n",
    "        print(\"recording start...\")\n",
    "    \n",
    "        # 録音処理\n",
    "        frames = []\n",
    "        for i in range(0, int(sampling_rate / chunk * rec_time)):\n",
    "            data = stream.read(chunk)\n",
    "            frames.append(data)\n",
    "\n",
    "        print(\"recording  end...\")\n",
    "\n",
    "        # 録音終了処理\n",
    "        stream.stop_stream()\n",
    "        stream.close()\n",
    "        audio.terminate()\n",
    "\n",
    "        # 録音データをファイルに保存\n",
    "        wav = wave.open(file_path, 'wb')\n",
    "        wav.setnchannels(ch)\n",
    "        wav.setsampwidth(audio.get_sample_size(fmt))\n",
    "        wav.setframerate(sampling_rate)\n",
    "        wav.writeframes(b''.join(frames))\n",
    "        wav.close()\n",
    "        \n",
    "if __name__ == '__main__':\n",
    "    main()"
   ]
  }
 ],
 "metadata": {
  "kernelspec": {
   "display_name": "Python 3",
   "language": "python",
   "name": "python3"
  },
  "language_info": {
   "codemirror_mode": {
    "name": "ipython",
    "version": 3
   },
   "file_extension": ".py",
   "mimetype": "text/x-python",
   "name": "python",
   "nbconvert_exporter": "python",
   "pygments_lexer": "ipython3",
   "version": "3.6.9"
  }
 },
 "nbformat": 4,
 "nbformat_minor": 2
}
