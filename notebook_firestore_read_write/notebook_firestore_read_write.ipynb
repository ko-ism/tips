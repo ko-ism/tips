{
 "cells": [
  {
   "cell_type": "code",
   "execution_count": 1,
   "metadata": {},
   "outputs": [],
   "source": [
    "from google.cloud import firestore\n",
    "import datetime"
   ]
  },
  {
   "cell_type": "code",
   "execution_count": null,
   "metadata": {},
   "outputs": [],
   "source": [
    "JSON_KEY = '<your_key_file.json>'"
   ]
  },
  {
   "cell_type": "code",
   "execution_count": 16,
   "metadata": {},
   "outputs": [
    {
     "name": "stdout",
     "output_type": "stream",
     "text": [
      "{'url': 'https://tabelog.com/tokyo/A1314/A131403/13136554/', 'lng': 139.737985, 'title': '蒙古タンメン中本 品川店', 'address': '〒108-0074 東京都港区高輪３丁目26−２０ 品達ラーメン内', 'overview': 'カウンター席とテーブル席を用意する店内で、辛いスープが特徴の蒙古タンメンをはじめ、さまざまなタンメンを提供。丼やセットも出す。', 'lat': 35.626665}\n",
      "{'url': 'https://tabelog.com/tokyo/A1316/A131601/13013957/', 'lng': 139.716897, 'title': '蒙古タンメン中本 目黒店', 'address': '〒141-0021 東京都品川区上大崎２丁目１３−４５ トラスト･リンク 第Ⅲビル 1Ｆ', 'overview': 'カウンター席のみの店内で、辛さが選べる味噌タンメンを提供。丼が付いたセットメニューもある。一部テイクアウト可。', 'lat': 35.634872}\n",
      "{'url': 'https://tabelog.com/tokyo/A1303/A130301/13094387/', 'lng': 139.698937, 'title': '蒙古タンメン中本 渋谷店', 'address': '〒150-0043 東京都渋谷区道玄坂２丁目６−１７ TOHOシネマズ渋谷B2F', 'overview': 'テーブル席も備えるカジュアルな雰囲気の店内で、名物の辛口ラーメンやつけ麺を提供。丼物やテイクアウトメニューもある。', 'lat': 35.659034}\n"
     ]
    }
   ],
   "source": [
    "client = firestore.Client.from_service_account_json(JSON_KEY)\n",
    "# 条件指定での読み込み\n",
    "query = client.collection(u'address-lists').where('lat', '>', 35)\n",
    "for doc in query.stream():\n",
    "    d = doc.to_dict()\n",
    "    print(d)"
   ]
  },
  {
   "cell_type": "code",
   "execution_count": 6,
   "metadata": {},
   "outputs": [
    {
     "data": {
      "text/plain": [
       "update_time {\n",
       "  seconds: 1574735092\n",
       "  nanos: 718476000\n",
       "}"
      ]
     },
     "execution_count": 6,
     "metadata": {},
     "output_type": "execute_result"
    }
   ],
   "source": [
    "# 書き込み\n",
    "data = {\n",
    "    u'timestamp': datetime.datetime.now(),\n",
    "    u'done': False,\n",
    "    u'session_id': u'77777',\n",
    "    u'url': u'https://www.google.com/',\n",
    "}\n",
    "\n",
    "\n",
    "client = firestore.Client.from_service_account_json(JSON_KEY)\n",
    "client.collection(u'status-database').document().set(data)"
   ]
  }
 ],
 "metadata": {
  "kernelspec": {
   "display_name": "Python 3",
   "language": "python",
   "name": "python3"
  },
  "language_info": {
   "codemirror_mode": {
    "name": "ipython",
    "version": 3
   },
   "file_extension": ".py",
   "mimetype": "text/x-python",
   "name": "python",
   "nbconvert_exporter": "python",
   "pygments_lexer": "ipython3",
   "version": "3.6.6"
  }
 },
 "nbformat": 4,
 "nbformat_minor": 2
}
