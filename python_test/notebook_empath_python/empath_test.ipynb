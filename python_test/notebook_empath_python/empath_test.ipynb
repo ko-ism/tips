{
 "cells": [
  {
   "cell_type": "code",
   "execution_count": 2,
   "metadata": {},
   "outputs": [
    {
     "name": "stdout",
     "output_type": "stream",
     "text": [
      "200\n",
      "b'{\"error\":0,\"calm\":37,\"anger\":0,\"joy\":1,\"sorrow\":11,\"energy\":0}\\n'\n"
     ]
    }
   ],
   "source": [
    "if __name__ == \"__main__\":\n",
    "    import os\n",
    "    from dotenv import load_dotenv\n",
    "    load_dotenv()\n",
    "    import requests\n",
    "    from requests_toolbelt.multipart.encoder import MultipartEncoder\n",
    "    \n",
    "    url = \"https://api.webempath.net/v2/analyzeWav\"\n",
    "    file_path = \"test_audio_high.wav\"\n",
    "    AUDIO_MIMETYPE = \"audio/wav\"\n",
    "\n",
    "    mp_encoder = MultipartEncoder(\n",
    "        fields={\n",
    "            'apikey': os.environ[\"EMPATH_API_KEY\"],\n",
    "            'wav': (file_path, open(file_path, 'rb'), AUDIO_MIMETYPE),\n",
    "        }\n",
    "    )\n",
    "\n",
    "    headers = {'Content-type': 'multipart/form-data', }\n",
    "\n",
    "    response = requests.post(url, headers={'Content-Type': mp_encoder.content_type}, data = mp_encoder)\n",
    "\n",
    "    \n",
    "    print(response.status_code)\n",
    "    print(response.content)\n",
    "\n",
    "    "
   ]
  },
  {
   "cell_type": "markdown",
   "metadata": {},
   "source": [
    "## memo\n",
    "- test_audio_high.wav\n",
    "    - b'{\"error\":0,\"calm\":37,\"anger\":0,\"joy\":1,\"sorrow\":11,\"energy\":0}\\n'\n",
    "- test_audio_low.wav\n",
    "     - b'{\"error\":0,\"calm\":35,\"anger\":5,\"joy\":10,\"sorrow\":0,\"energy\":15}\\n'"
   ]
  },
  {
   "cell_type": "code",
   "execution_count": null,
   "metadata": {},
   "outputs": [],
   "source": []
  },
  {
   "cell_type": "code",
   "execution_count": null,
   "metadata": {},
   "outputs": [],
   "source": []
  },
  {
   "cell_type": "code",
   "execution_count": 4,
   "metadata": {},
   "outputs": [],
   "source": [
    "# from poster.encode import multipart_encode, MultipartParam\n",
    "# from poster.streaminghttp import register_openers\n",
    "# import urllib2\n",
    "\n",
    "# url=\"https://api.webempath.net/v2/analyzeWav\"\n",
    "\n",
    "\n",
    "\n",
    "# register_openers()\n",
    "# items = []\n",
    "# items.append(MultipartParam('apikey', os.environ[\"EMPATH_API_KEY\"]))\n",
    "# items.append(MultipartParam.from_file('wav', \"test_audio_hight.wav\"))\n",
    "# datagen, headers = multipart_encode(items)\n",
    "# request = urllib2.Request(url, datagen, headers)\n",
    "# response = urllib2.urlopen(request)\n",
    "# if response.getcode() == 200:\n",
    "#     print(response.read())\n",
    "# else:\n",
    "#     print(\"HTTP status %d\" % (response.getcode()))"
   ]
  },
  {
   "cell_type": "code",
   "execution_count": null,
   "metadata": {},
   "outputs": [],
   "source": []
  }
 ],
 "metadata": {
  "kernelspec": {
   "display_name": "Python 3",
   "language": "python",
   "name": "python3"
  },
  "language_info": {
   "codemirror_mode": {
    "name": "ipython",
    "version": 3
   },
   "file_extension": ".py",
   "mimetype": "text/x-python",
   "name": "python",
   "nbconvert_exporter": "python",
   "pygments_lexer": "ipython3",
   "version": "3.6.9"
  }
 },
 "nbformat": 4,
 "nbformat_minor": 2
}
