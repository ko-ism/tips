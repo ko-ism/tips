{
 "cells": [
  {
   "cell_type": "code",
   "execution_count": 57,
   "metadata": {},
   "outputs": [],
   "source": [
    "# Imports the Google Cloud client library\n",
    "from google.cloud import storage\n",
    "import os\n",
    "import wave\n",
    "# import re\n",
    "import glob\n",
    "\n",
    "PROJECT_NAME = \"<your project name>\"\n",
    "KEY_FILE = \"<key file.json>\"\n",
    "BUCKET_NAME = \"<bucket name>\"\n",
    "AUDIO_DATA = \"data/\"\n",
    "\n",
    "# Instantiates a client\n",
    "storage_client = storage.Client(project=PROJECT_NAME).from_service_account_json(KEY_FILE)\n",
    "\n",
    "\n",
    "def list_blobs(bucket_name):\n",
    "    \"\"\"Lists all the blobs in the bucket.\"\"\"\n",
    "\n",
    "    blob_lists = []\n",
    "    bucket = storage_client.get_bucket(bucket_name)\n",
    "#     print(bucket)\n",
    "    blobs = bucket.list_blobs()\n",
    "#     print(blobs)\n",
    "\n",
    "    for blob in blobs:\n",
    "#         print(blob.name)\n",
    "        blob_lists.append(blob.name)\n",
    "    return blob_lists\n",
    "\n",
    "\n",
    "def download_blob(bucket_name, source_blob_name, destination_file_name):\n",
    "    \"\"\"Downloads a blob from the bucket.\"\"\"\n",
    "    bucket = storage_client.get_bucket(bucket_name)\n",
    "    blob = bucket.get_blob(source_blob_name)\n",
    "\n",
    "    blob.download_to_filename(destination_file_name)\n",
    "\n",
    "    print('Blob {} downloaded to {}.'.format(\n",
    "        source_blob_name,\n",
    "        destination_file_name))\n",
    "\n",
    "\n",
    "def join_waves(inputs, output):\n",
    "    '''\n",
    "    inputs : list of filenames\n",
    "    output : output filename\n",
    "    '''\n",
    "    try:\n",
    "        fps = [wave.open(f, 'r') for f in inputs]\n",
    "        fpw = wave.open(output, 'w')\n",
    "\n",
    "        fpw.setnchannels(fps[0].getnchannels())\n",
    "        fpw.setsampwidth(fps[0].getsampwidth())\n",
    "        fpw.setframerate(fps[0].getframerate())\n",
    "        \n",
    "        for fp in fps:\n",
    "            fpw.writeframes(fp.readframes(fp.getnframes()))\n",
    "            fp.close()\n",
    "        fpw.close()\n",
    "\n",
    "    except wave.Error as e:\n",
    "        print(e)\n",
    "\n",
    "    except Exception as e:\n",
    "        print('unexpected error -> ' + str(e))"
   ]
  },
  {
   "cell_type": "code",
   "execution_count": 45,
   "metadata": {},
   "outputs": [],
   "source": [
    "# all_blobs = list_blobs(BUCKET_NAME)\n",
    "# print(all_blobs)"
   ]
  },
  {
   "cell_type": "code",
   "execution_count": 63,
   "metadata": {},
   "outputs": [],
   "source": [
    "file_path_lists = []\n",
    "session_id_list = []\n",
    "for blob in all_blobs:\n",
    "    session_id = blob.split(\"/\")[1].split(\"_\")[1].split(\".\")[0]\n",
    "    session_id_list.append(session_id)\n",
    "    file_name = blob.split(\"/\")[1]\n",
    "    save_dir = AUDIO_DATA + session_id + \"/\"\n",
    "    file_path_lists.append(save_dir + file_name)\n",
    "    if not os.path.isdir(save_dir):\n",
    "        os.mkdir(save_dir)\n",
    "#     download_blob(BUCKET_NAME, blob, save_dir + file_name)\n",
    "\n",
    "session_id_list = list(set(session_id_list))\n",
    "session_id_list"
   ]
  },
  {
   "cell_type": "code",
   "execution_count": 67,
   "metadata": {},
   "outputs": [
    {
     "data": {
      "text/plain": [
       "['01080001430f',\n",
       " '02860001147f',\n",
       " '017400014429',\n",
       " '038300013f94',\n",
       " '034a00017862',\n",
       " '025d00011684',\n",
       " '018a00018e36',\n",
       " '02390001169f',\n",
       " '022100011501']"
      ]
     },
     "execution_count": 67,
     "metadata": {},
     "output_type": "execute_result"
    }
   ],
   "source": []
  },
  {
   "cell_type": "code",
   "execution_count": 69,
   "metadata": {},
   "outputs": [],
   "source": [
    "# text = \"conversation_history/20191210100917_038300013f94.wav\"\n",
    "# session_id = text.split(\"/\")[1].split(\"_\")[1].split(\".\")[0]\n",
    "# session_id\n",
    "# file_name = text.split(\"/\")[1].split(\"_\")[1]\n",
    "# file_name"
   ]
  },
  {
   "cell_type": "code",
   "execution_count": 70,
   "metadata": {},
   "outputs": [],
   "source": [
    "# file_path_lists[0].split(\"/\")[1]"
   ]
  },
  {
   "cell_type": "code",
   "execution_count": 68,
   "metadata": {},
   "outputs": [
    {
     "name": "stdout",
     "output_type": "stream",
     "text": [
      "['data/01080001430f\\\\20191212133843_01080001430f.wav', 'data/01080001430f\\\\20191212133855_01080001430f.wav', 'data/01080001430f\\\\20191212133905_01080001430f.wav', 'data/01080001430f\\\\20191212133918_01080001430f.wav', 'data/01080001430f\\\\20191212133932_01080001430f.wav', 'data/01080001430f\\\\20191212133940_01080001430f.wav', 'data/01080001430f\\\\20191212133949_01080001430f.wav', 'data/01080001430f\\\\20191212133958_01080001430f.wav']\n",
      "['data/02860001147f\\\\20191210132755_02860001147f.wav', 'data/02860001147f\\\\20191210132807_02860001147f.wav', 'data/02860001147f\\\\20191210132818_02860001147f.wav', 'data/02860001147f\\\\20191210132826_02860001147f.wav', 'data/02860001147f\\\\20191210132837_02860001147f.wav', 'data/02860001147f\\\\20191210132845_02860001147f.wav']\n",
      "['data/017400014429\\\\20191212140821_017400014429.wav', 'data/017400014429\\\\20191212140836_017400014429.wav', 'data/017400014429\\\\20191212140849_017400014429.wav', 'data/017400014429\\\\20191212140905_017400014429.wav', 'data/017400014429\\\\20191212140914_017400014429.wav', 'data/017400014429\\\\20191212140931_017400014429.wav', 'data/017400014429\\\\20191212140941_017400014429.wav', 'data/017400014429\\\\20191212140952_017400014429.wav', 'data/017400014429\\\\20191212141005_017400014429.wav']\n",
      "['data/038300013f94\\\\20191210100917_038300013f94.wav', 'data/038300013f94\\\\20191210100928_038300013f94.wav', 'data/038300013f94\\\\20191210100939_038300013f94.wav', 'data/038300013f94\\\\20191210100951_038300013f94.wav']\n",
      "['data/034a00017862\\\\20191212144452_034a00017862.wav']\n",
      "['data/025d00011684\\\\20191212145139_025d00011684.wav', 'data/025d00011684\\\\20191212145154_025d00011684.wav', 'data/025d00011684\\\\20191212145206_025d00011684.wav', 'data/025d00011684\\\\20191212145217_025d00011684.wav', 'data/025d00011684\\\\20191212145225_025d00011684.wav', 'data/025d00011684\\\\20191212145235_025d00011684.wav', 'data/025d00011684\\\\20191212145243_025d00011684.wav']\n",
      "['data/018a00018e36\\\\20191210130137_018a00018e36.wav', 'data/018a00018e36\\\\20191210130148_018a00018e36.wav']\n",
      "['data/02390001169f\\\\20191210131037_02390001169f.wav', 'data/02390001169f\\\\20191210131049_02390001169f.wav', 'data/02390001169f\\\\20191210131059_02390001169f.wav', 'data/02390001169f\\\\20191210131108_02390001169f.wav', 'data/02390001169f\\\\20191210131119_02390001169f.wav', 'data/02390001169f\\\\20191210131127_02390001169f.wav']\n",
      "['data/022100011501\\\\20191210130018_022100011501.wav', 'data/022100011501\\\\20191210130031_022100011501.wav']\n"
     ]
    }
   ],
   "source": [
    "# \n",
    "\n",
    "for session_id in session_id_list:\n",
    "    merge_lists = glob.glob(\"data/\" + session_id + \"/*\")\n",
    "    print(merge_lists)\n",
    "    join_waves(merge_lists, \"data/\" + session_id + \".wav\")"
   ]
  },
  {
   "cell_type": "code",
   "execution_count": 72,
   "metadata": {},
   "outputs": [
    {
     "name": "stdout",
     "output_type": "stream",
     "text": [
      "Channel num :  1\n",
      "Sample width :  2\n",
      "Sampling rate :  8000\n",
      "Frame num :  254960\n"
     ]
    }
   ],
   "source": [
    "fname = 'data/01080001430f.wav' # mono\n",
    "\n",
    "waveFile = wave.open(fname, 'r')\n",
    "# buf = waveFile.readframes(-1) # 全て読み込む場合\n",
    "# チャネル数：monoなら1, stereoなら2, 5.1chなら6(たぶん)\n",
    "nchannles = waveFile.getnchannels()\n",
    "\n",
    "# 音声データ1サンプルあたりのバイト数。2なら2bytes(16bit), 3なら24bitなど\n",
    "samplewidth = waveFile.getsampwidth()\n",
    "\n",
    "# サンプリング周波数。普通のCDなら44.1k\n",
    "framerate = waveFile.getframerate()\n",
    "\n",
    "# 音声のデータ点の数\n",
    "nframes = waveFile.getnframes()\n",
    "\n",
    "print(\"Channel num : \", nchannles)\n",
    "print(\"Sample width : \", samplewidth)\n",
    "print(\"Sampling rate : \", framerate)\n",
    "print(\"Frame num : \", nframes)\n",
    "\n",
    "waveFile.close()"
   ]
  },
  {
   "cell_type": "code",
   "execution_count": null,
   "metadata": {},
   "outputs": [],
   "source": []
  },
  {
   "cell_type": "code",
   "execution_count": null,
   "metadata": {},
   "outputs": [],
   "source": []
  }
 ],
 "metadata": {
  "kernelspec": {
   "display_name": "Python 3",
   "language": "python",
   "name": "python3"
  },
  "language_info": {
   "codemirror_mode": {
    "name": "ipython",
    "version": 3
   },
   "file_extension": ".py",
   "mimetype": "text/x-python",
   "name": "python",
   "nbconvert_exporter": "python",
   "pygments_lexer": "ipython3",
   "version": "3.6.9"
  }
 },
 "nbformat": 4,
 "nbformat_minor": 2
}
